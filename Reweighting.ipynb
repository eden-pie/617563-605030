{
 "cells": [
  {
   "cell_type": "code",
   "execution_count": 31,
   "id": "0f06b2a2-8b46-4aa6-94e9-83a35c732f06",
   "metadata": {},
   "outputs": [
    {
     "name": "stdout",
     "output_type": "stream",
     "text": [
      "Requirement already satisfied: aif360 in /opt/conda/lib/python3.11/site-packages (0.6.1)\n",
      "Requirement already satisfied: scikit-learn in /opt/conda/lib/python3.11/site-packages (1.3.1)\n",
      "Requirement already satisfied: matplotlib in /opt/conda/lib/python3.11/site-packages (3.8.0)\n",
      "Requirement already satisfied: pandas in /opt/conda/lib/python3.11/site-packages (2.1.1)\n",
      "Requirement already satisfied: numpy>=1.16 in /opt/conda/lib/python3.11/site-packages (from aif360) (1.24.4)\n",
      "Requirement already satisfied: scipy>=1.2.0 in /opt/conda/lib/python3.11/site-packages (from aif360) (1.11.3)\n",
      "Requirement already satisfied: joblib>=1.1.1 in /opt/conda/lib/python3.11/site-packages (from scikit-learn) (1.3.2)\n",
      "Requirement already satisfied: threadpoolctl>=2.0.0 in /opt/conda/lib/python3.11/site-packages (from scikit-learn) (3.2.0)\n",
      "Requirement already satisfied: contourpy>=1.0.1 in /opt/conda/lib/python3.11/site-packages (from matplotlib) (1.1.1)\n",
      "Requirement already satisfied: cycler>=0.10 in /opt/conda/lib/python3.11/site-packages (from matplotlib) (0.12.1)\n",
      "Requirement already satisfied: fonttools>=4.22.0 in /opt/conda/lib/python3.11/site-packages (from matplotlib) (4.43.1)\n",
      "Requirement already satisfied: kiwisolver>=1.0.1 in /opt/conda/lib/python3.11/site-packages (from matplotlib) (1.4.5)\n",
      "Requirement already satisfied: packaging>=20.0 in /opt/conda/lib/python3.11/site-packages (from matplotlib) (23.2)\n",
      "Requirement already satisfied: pillow>=6.2.0 in /opt/conda/lib/python3.11/site-packages (from matplotlib) (10.1.0)\n",
      "Requirement already satisfied: pyparsing>=2.3.1 in /opt/conda/lib/python3.11/site-packages (from matplotlib) (3.1.1)\n",
      "Requirement already satisfied: python-dateutil>=2.7 in /opt/conda/lib/python3.11/site-packages (from matplotlib) (2.8.2)\n",
      "Requirement already satisfied: pytz>=2020.1 in /opt/conda/lib/python3.11/site-packages (from pandas) (2023.3.post1)\n",
      "Requirement already satisfied: tzdata>=2022.1 in /opt/conda/lib/python3.11/site-packages (from pandas) (2023.3)\n",
      "Requirement already satisfied: six>=1.5 in /opt/conda/lib/python3.11/site-packages (from python-dateutil>=2.7->matplotlib) (1.16.0)\n"
     ]
    }
   ],
   "source": [
    "# Step 1: Install and Import Required Libraries\n",
    "!pip install aif360 scikit-learn matplotlib pandas\n",
    "\n",
    "# General libraries\n",
    "import pandas as pd\n",
    "import numpy as np\n",
    "import matplotlib.pyplot as plt\n",
    "\n",
    "# Scikit-learn libraries\n",
    "from sklearn.model_selection import train_test_split\n",
    "from sklearn.ensemble import RandomForestClassifier\n",
    "from sklearn.preprocessing import MinMaxScaler, LabelEncoder\n",
    "from sklearn.metrics import accuracy_score, f1_score, confusion_matrix\n",
    "\n",
    "# AIF360 libraries\n",
    "from aif360.datasets import BinaryLabelDataset\n",
    "from aif360.metrics import BinaryLabelDatasetMetric, ClassificationMetric\n",
    "from aif360.algorithms.preprocessing import Reweighing, DisparateImpactRemover, LFR\n",
    "\n",
    "# Step 2: Load and Preprocess the Dataset\n",
    "df = pd.read_csv('stackoverflow_full.csv')\n",
    "\n",
    "# Encode categorical features\n",
    "le_gender = LabelEncoder()\n",
    "df['Gender'] = le_gender.fit_transform(df['Gender'])  # Man=1, Woman=0\n",
    "\n",
    "# Convert 'Age' to numeric and simplify to binary categories\n",
    "df['Age'] = pd.to_numeric(df['Age'], errors='coerce')\n",
    "df['Age'] = df['Age'].apply(lambda x: 0 if x < 35 else 1)\n",
    "df['Age'].fillna(df['Age'].median(), inplace=True)\n",
    "\n",
    "# Encode 'EdLevel' (Education Level)\n",
    "le_education = LabelEncoder()\n",
    "df['EdLevel'] = le_education.fit_transform(df['EdLevel'])  # Convert education levels to numeric\n",
    "\n",
    "# Select features and target\n",
    "features = ['Gender', 'Age', 'EdLevel', 'YearsCodePro']\n",
    "target = 'Employed'\n",
    "\n",
    "# Split dataset into features (X) and target (y)\n",
    "X = df[features]\n",
    "y = df[target]\n",
    "\n",
    "# Normalize features\n",
    "scaler = MinMaxScaler()\n",
    "X_scaled = scaler.fit_transform(X)\n",
    "\n",
    "# Train-test split\n",
    "X_train, X_test, y_train, y_test = train_test_split(X_scaled, y, test_size=0.2, random_state=42)\n",
    "\n",
    "# Re-attach the target column to the train and test DataFrames\n",
    "train_df = pd.DataFrame(X_train, columns=features)\n",
    "train_df[target] = y_train.values\n",
    "\n",
    "test_df = pd.DataFrame(X_test, columns=features)\n",
    "test_df[target] = y_test.values\n",
    "\n",
    "# Convert data into AIF360's BinaryLabelDataset format\n",
    "train_data = BinaryLabelDataset(df=train_df, label_names=[target],\n",
    "                                protected_attribute_names=['Gender', 'Age'],\n",
    "                                favorable_label=1, unfavorable_label=0)\n",
    "\n",
    "test_data = BinaryLabelDataset(df=test_df, label_names=[target],\n",
    "                               protected_attribute_names=['Gender', 'Age'],\n",
    "                               favorable_label=1, unfavorable_label=0)"
   ]
  },
  {
   "cell_type": "code",
   "execution_count": 32,
   "id": "ccd121b8-06f6-4bdf-b227-2ee63a027fef",
   "metadata": {},
   "outputs": [
    {
     "name": "stdout",
     "output_type": "stream",
     "text": [
      "Statistical Parity Difference:\n",
      "Statistical parity difference (probability of favorable outcome for unprivileged instances - probability of favorable outcome for privileged instances): 0.09742853007198843\n",
      "Direct Impact (Disparate Impact) Before Reweighing (Training Data):\n",
      "1.2196825990565507\n"
     ]
    }
   ],
   "source": [
    "# Load the metric class\n",
    "from aif360.metrics import BinaryLabelDatasetMetric\n",
    "\n",
    "# Create the metric object\n",
    "metric_orig_train = BinaryLabelDatasetMetric(\n",
    "    train_data, unprivileged_groups=unprivileged_groups, privileged_groups=privileged_groups)\n",
    "\n",
    "# Load and create explainers\n",
    "from aif360.explainers import MetricTextExplainer, MetricJSONExplainer\n",
    "text_exp_orig_train = MetricTextExplainer(metric_orig_train)\n",
    "\n",
    "# Print statistical parity difference\n",
    "print(\"Statistical Parity Difference:\")\n",
    "print(text_exp_orig_train.statistical_parity_difference())\n",
    "\n",
    "# Calculate and print Direct Impact (Disparate Impact)\n",
    "direct_impact_orig_train = metric_orig_train.disparate_impact()\n",
    "\n",
    "print(\"Direct Impact (Disparate Impact) Before Reweighing (Training Data):\")\n",
    "print(direct_impact_orig_train)"
   ]
  },
  {
   "cell_type": "code",
   "execution_count": 33,
   "id": "cef2c738-91ce-4cb5-b6a3-1d639bf61fa3",
   "metadata": {},
   "outputs": [],
   "source": [
    "# Step 3: Apply Pre-Processing Techniques for Bias Mitigation\n",
    "\n",
    "# Option 1: Reweighing Technique\n",
    "reweighing = Reweighing(unprivileged_groups=[{'Gender': 0}], privileged_groups=[{'Gender': 1}])\n",
    "train_data_reweighed = reweighing.fit_transform(train_data)"
   ]
  },
  {
   "cell_type": "code",
   "execution_count": 34,
   "id": "7d9e6773-125b-4108-8307-41d5f4f7363c",
   "metadata": {},
   "outputs": [],
   "source": [
    "# Import the reweighing preprocessing algorithm class\n",
    "from aif360.algorithms.preprocessing import Reweighing\n",
    "\n",
    "# Create the algorithm object\n",
    "RW = Reweighing(unprivileged_groups=unprivileged_groups, privileged_groups=privileged_groups)\n",
    "\n",
    "# Train and transform the training data\n",
    "RW.fit(train_data)\n",
    "train_transf_dataset = RW.transform(train_data)"
   ]
  },
  {
   "cell_type": "code",
   "execution_count": 35,
   "id": "b9873221-6121-48a9-b6db-79cb5a836a74",
   "metadata": {},
   "outputs": [
    {
     "name": "stdout",
     "output_type": "stream",
     "text": [
      "Statistical Parity Difference After Reweighing (Training Data):\n",
      "Statistical parity difference (probability of favorable outcome for unprivileged instances - probability of favorable outcome for privileged instances): -1.1102230246251565e-16\n",
      "Direct Impact (Disparate Impact) After Reweighing (Training Data):\n",
      "0.9999999999999998\n"
     ]
    }
   ],
   "source": [
    "# Checking for Bias in the Original Data Using SPD\n",
    "\n",
    "# Create the metric object for pre-processed data\n",
    "metric_transf_train = BinaryLabelDatasetMetric(\n",
    "    train_transf_dataset, unprivileged_groups=unprivileged_groups, privileged_groups=privileged_groups)\n",
    "\n",
    "# Create explainer\n",
    "text_exp_transf_train = MetricTextExplainer(metric_transf_train)\n",
    "\n",
    "# Print statistical parity difference\n",
    "print(\"Statistical Parity Difference After Reweighing (Training Data):\")\n",
    "print(text_exp_transf_train.statistical_parity_difference())\n",
    "\n",
    "\n",
    "# Calculate and print Direct Impact (Disparate Impact)\n",
    "direct_impact_transf_train = metric_transf_train.disparate_impact()\n",
    "\n",
    "print(\"Direct Impact (Disparate Impact) After Reweighing (Training Data):\")\n",
    "print(direct_impact_transf_train)\n"
   ]
  },
  {
   "cell_type": "code",
   "execution_count": 36,
   "id": "7e31a015-ac2e-4416-980a-eca415054a6b",
   "metadata": {},
   "outputs": [
    {
     "name": "stdout",
     "output_type": "stream",
     "text": [
      "Statistical Parity Difference Before Reweighing (Test Data):\n",
      "Statistical parity difference (probability of favorable outcome for unprivileged instances - probability of favorable outcome for privileged instances): 0.06996222752788511\n",
      "Statistical Parity Difference After Reweighing (Test Data):\n",
      "Statistical parity difference (probability of favorable outcome for unprivileged instances - probability of favorable outcome for privileged instances): -0.02740185124008554\n",
      "Direct Impact (Disparate Impact) Before Reweighing (Test Data):\n",
      "1.1488018374006983\n",
      "Direct Impact (Disparate Impact) After Reweighing (Test Data):\n",
      "0.951331485897656\n"
     ]
    }
   ],
   "source": [
    "# Apply the learned re-weighing pre-processor to the test data\n",
    "test_transf_dataset = RW.transform(test_data)\n",
    "\n",
    "# Create metric objects for original and pre-processed test data\n",
    "metric_orig_test = BinaryLabelDatasetMetric(\n",
    "    test_data, unprivileged_groups=unprivileged_groups, privileged_groups=privileged_groups)\n",
    "metric_transf_test = BinaryLabelDatasetMetric(\n",
    "    test_transf_dataset, unprivileged_groups=unprivileged_groups, privileged_groups=privileged_groups)\n",
    "\n",
    "# Create explainers for both metric objects\n",
    "text_exp_orig_test = MetricTextExplainer(metric_orig_test)\n",
    "text_exp_transf_test = MetricTextExplainer(metric_transf_test)\n",
    "\n",
    "# Print statistical parity difference for original and transformed test data\n",
    "print(\"Statistical Parity Difference Before Reweighing (Test Data):\")\n",
    "print(text_exp_orig_test.statistical_parity_difference())\n",
    "\n",
    "print(\"Statistical Parity Difference After Reweighing (Test Data):\")\n",
    "print(text_exp_transf_test.statistical_parity_difference())\n",
    "\n",
    "# Calculate and print Direct Impact (Disparate Impact) for original and transformed test data\n",
    "direct_impact_orig_test = metric_orig_test.disparate_impact()\n",
    "direct_impact_transf_test = metric_transf_test.disparate_impact()\n",
    "\n",
    "print(\"Direct Impact (Disparate Impact) Before Reweighing (Test Data):\")\n",
    "print(direct_impact_orig_test)\n",
    "\n",
    "print(\"Direct Impact (Disparate Impact) After Reweighing (Test Data):\")\n",
    "print(direct_impact_transf_test)\n"
   ]
  },
  {
   "cell_type": "code",
   "execution_count": null,
   "id": "319a8cd3-98f6-42b7-b528-06e10635b5a2",
   "metadata": {},
   "outputs": [],
   "source": []
  }
 ],
 "metadata": {
  "kernelspec": {
   "display_name": "Python 3 (ipykernel)",
   "language": "python",
   "name": "python3"
  },
  "language_info": {
   "codemirror_mode": {
    "name": "ipython",
    "version": 3
   },
   "file_extension": ".py",
   "mimetype": "text/x-python",
   "name": "python",
   "nbconvert_exporter": "python",
   "pygments_lexer": "ipython3",
   "version": "3.11.6"
  }
 },
 "nbformat": 4,
 "nbformat_minor": 5
}
